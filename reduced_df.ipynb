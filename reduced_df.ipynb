{
 "cells": [
  {
   "cell_type": "markdown",
   "id": "15766858",
   "metadata": {},
   "source": [
    "# In this notebook we perform subsampling of the huge dataset."
   ]
  },
  {
   "cell_type": "code",
   "execution_count": 1,
   "id": "88b9b4fd-7b5f-4a26-8882-045368777df7",
   "metadata": {},
   "outputs": [],
   "source": [
    "import pandas as pd\n",
    "import numpy as np\n",
    "import polars as pl"
   ]
  },
  {
   "cell_type": "code",
   "execution_count": 2,
   "id": "b9bd17da-29df-46a1-b153-e844b1c35a9b",
   "metadata": {},
   "outputs": [],
   "source": [
    "train = pd.read_csv('Data/training.csv')\n",
    "test = pd.read_csv('Data/test.csv')"
   ]
  },
  {
   "cell_type": "code",
   "execution_count": 3,
   "id": "f399a7f1-7a6e-4405-98bd-827a73b83d05",
   "metadata": {},
   "outputs": [
    {
     "data": {
      "text/plain": [
       "((2056160, 44), (7890, 44))"
      ]
     },
     "execution_count": 3,
     "metadata": {},
     "output_type": "execute_result"
    }
   ],
   "source": [
    "train.shape, test.shape"
   ]
  },
  {
   "cell_type": "markdown",
   "id": "8dd3e87f",
   "metadata": {},
   "source": [
    "## Is a customer repaying or not? Average over 20 periods."
   ]
  },
  {
   "cell_type": "markdown",
   "id": "fb905d05",
   "metadata": {},
   "source": [
    "An idea we come up with, is to focus only on those clients that had _at least_ one period in which they were classified as \"non payers\". This allows to focus only on the observation we want our model to correctly predict, while avoiding the noise brought by the humongous number of disciplined clients (which are not our primary focus indeed)."
   ]
  },
  {
   "cell_type": "markdown",
   "id": "5341adf7",
   "metadata": {},
   "source": [
    "We average over the 20 periods the values of \"repays_debt\" for each individual client."
   ]
  },
  {
   "cell_type": "code",
   "execution_count": 5,
   "id": "6fc7ac8c",
   "metadata": {},
   "outputs": [],
   "source": [
    "average_repaying = pd.DataFrame(train.groupby('client_id')['repays_debt'].mean())"
   ]
  },
  {
   "cell_type": "code",
   "execution_count": 6,
   "id": "42a2cad5",
   "metadata": {},
   "outputs": [
    {
     "data": {
      "text/html": [
       "<div>\n",
       "<style scoped>\n",
       "    .dataframe tbody tr th:only-of-type {\n",
       "        vertical-align: middle;\n",
       "    }\n",
       "\n",
       "    .dataframe tbody tr th {\n",
       "        vertical-align: top;\n",
       "    }\n",
       "\n",
       "    .dataframe thead th {\n",
       "        text-align: right;\n",
       "    }\n",
       "</style>\n",
       "<table border=\"1\" class=\"dataframe\">\n",
       "  <thead>\n",
       "    <tr style=\"text-align: right;\">\n",
       "      <th></th>\n",
       "      <th>repays_debt</th>\n",
       "    </tr>\n",
       "    <tr>\n",
       "      <th>client_id</th>\n",
       "      <th></th>\n",
       "    </tr>\n",
       "  </thead>\n",
       "  <tbody>\n",
       "    <tr>\n",
       "      <th>0</th>\n",
       "      <td>0.0</td>\n",
       "    </tr>\n",
       "    <tr>\n",
       "      <th>1</th>\n",
       "      <td>0.0</td>\n",
       "    </tr>\n",
       "    <tr>\n",
       "      <th>2</th>\n",
       "      <td>0.0</td>\n",
       "    </tr>\n",
       "    <tr>\n",
       "      <th>3</th>\n",
       "      <td>0.0</td>\n",
       "    </tr>\n",
       "    <tr>\n",
       "      <th>4</th>\n",
       "      <td>0.0</td>\n",
       "    </tr>\n",
       "    <tr>\n",
       "      <th>...</th>\n",
       "      <td>...</td>\n",
       "    </tr>\n",
       "    <tr>\n",
       "      <th>103481</th>\n",
       "      <td>0.0</td>\n",
       "    </tr>\n",
       "    <tr>\n",
       "      <th>103482</th>\n",
       "      <td>0.0</td>\n",
       "    </tr>\n",
       "    <tr>\n",
       "      <th>103483</th>\n",
       "      <td>0.0</td>\n",
       "    </tr>\n",
       "    <tr>\n",
       "      <th>103484</th>\n",
       "      <td>0.0</td>\n",
       "    </tr>\n",
       "    <tr>\n",
       "      <th>103485</th>\n",
       "      <td>0.0</td>\n",
       "    </tr>\n",
       "  </tbody>\n",
       "</table>\n",
       "<p>102808 rows × 1 columns</p>\n",
       "</div>"
      ],
      "text/plain": [
       "           repays_debt\n",
       "client_id             \n",
       "0                  0.0\n",
       "1                  0.0\n",
       "2                  0.0\n",
       "3                  0.0\n",
       "4                  0.0\n",
       "...                ...\n",
       "103481             0.0\n",
       "103482             0.0\n",
       "103483             0.0\n",
       "103484             0.0\n",
       "103485             0.0\n",
       "\n",
       "[102808 rows x 1 columns]"
      ]
     },
     "execution_count": 6,
     "metadata": {},
     "output_type": "execute_result"
    }
   ],
   "source": [
    "average_repaying"
   ]
  },
  {
   "cell_type": "markdown",
   "id": "14a14c9f",
   "metadata": {},
   "source": [
    "We then only retain those clients that have an average value greater than 0."
   ]
  },
  {
   "cell_type": "code",
   "execution_count": 7,
   "id": "d13b8002",
   "metadata": {},
   "outputs": [],
   "source": [
    "reduced_df = average_repaying.loc[average_repaying['repays_debt'] > 0]\n",
    "reduced_df['client_id'] = reduced_df.index"
   ]
  },
  {
   "cell_type": "markdown",
   "id": "ea87c279",
   "metadata": {},
   "source": [
    "Save the results to a csv, that will be used in the notebook **Task 1 - Predictions**."
   ]
  },
  {
   "cell_type": "code",
   "execution_count": 9,
   "id": "db381b98",
   "metadata": {},
   "outputs": [],
   "source": [
    "reduced_df.to_csv('Data/average_repaying.csv', index=False)"
   ]
  }
 ],
 "metadata": {
  "kernelspec": {
   "display_name": "Python 3 (ipykernel)",
   "language": "python",
   "name": "python3"
  },
  "language_info": {
   "codemirror_mode": {
    "name": "ipython",
    "version": 3
   },
   "file_extension": ".py",
   "mimetype": "text/x-python",
   "name": "python",
   "nbconvert_exporter": "python",
   "pygments_lexer": "ipython3",
   "version": "3.11.2"
  }
 },
 "nbformat": 4,
 "nbformat_minor": 5
}
